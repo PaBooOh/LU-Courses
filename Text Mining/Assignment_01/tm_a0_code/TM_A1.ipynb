{
 "cells": [
  {
   "cell_type": "markdown",
   "metadata": {
    "colab_type": "text",
    "id": "view-in-github"
   },
   "source": [
    "<a href=\"https://colab.research.google.com/github/PawinData/TM/blob/main/TM_A1.ipynb\" target=\"_parent\"><img src=\"https://colab.research.google.com/assets/colab-badge.svg\" alt=\"Open In Colab\"/></a>"
   ]
  },
  {
   "cell_type": "code",
   "execution_count": 1,
   "metadata": {
    "id": "oeKCdb2tn9gQ"
   },
   "outputs": [],
   "source": [
    "import numpy as np\n",
    "import pandas as pd\n",
    "import matplotlib.pyplot as plt\n",
    "from sklearn.datasets import fetch_20newsgroups\n",
    "from sklearn.feature_extraction.text import CountVectorizer, TfidfTransformer\n",
    "from sklearn.naive_bayes import MultinomialNB\n",
    "from sklearn.linear_model import SGDClassifier\n",
    "from sklearn.tree import DecisionTreeClassifier\n",
    "from sklearn.ensemble import RandomForestClassifier\n",
    "from sklearn.pipeline import Pipeline\n",
    "from sklearn.metrics import precision_score, recall_score, f1_score\n",
    "from collections import namedtuple\n",
    "from pickle import dump, load"
   ]
  },
  {
   "cell_type": "code",
   "execution_count": 2,
   "metadata": {
    "colab": {
     "base_uri": "https://localhost:8080/",
     "height": 468
    },
    "id": "CoOxtALDpV88",
    "outputId": "e28520a9-0a5d-4cec-ffff-194eeea612d1"
   },
   "outputs": [
    {
     "name": "stderr",
     "output_type": "stream",
     "text": [
      "Downloading 20news dataset. This may take a few minutes.\n",
      "Downloading dataset from https://ndownloader.figshare.com/files/5975967 (14 MB)\n"
     ]
    },
    {
     "name": "stdout",
     "output_type": "stream",
     "text": [
      "There are 11314 files in the training set under 20 categories: \n",
      "\n",
      "alt.atheism\n",
      "comp.graphics\n",
      "comp.os.ms-windows.misc\n",
      "comp.sys.ibm.pc.hardware\n",
      "comp.sys.mac.hardware\n",
      "comp.windows.x\n",
      "misc.forsale\n",
      "rec.autos\n",
      "rec.motorcycles\n",
      "rec.sport.baseball\n",
      "rec.sport.hockey\n",
      "sci.crypt\n",
      "sci.electronics\n",
      "sci.med\n",
      "sci.space\n",
      "soc.religion.christian\n",
      "talk.politics.guns\n",
      "talk.politics.mideast\n",
      "talk.politics.misc\n",
      "talk.religion.misc\n",
      "\n",
      "There are 7532 files in the test set under 20 categories.\n"
     ]
    }
   ],
   "source": [
    "twenty_train = fetch_20newsgroups(subset='train', shuffle=True, random_state=19)  # read in training set\n",
    "twenty_test  = fetch_20newsgroups(subset='test',  shuffle=True, random_state=29)  # read in test set\n",
    "\n",
    "print(\"There are\", len(twenty_train.filenames), \"files in the training set under\", len(twenty_train.target_names), \"categories: \\n\")\n",
    "for title in twenty_train.target_names:\n",
    "    print(title)\n",
    "print(\"\")\n",
    "print(\"There are\", len(twenty_test.filenames), \"files in the test set under\", len(twenty_test.target_names), \"categories.\")"
   ]
  },
  {
   "cell_type": "code",
   "execution_count": 3,
   "metadata": {
    "id": "2hrNYHJa8mTo"
   },
   "outputs": [],
   "source": [
    "# organize evaluation metrics with namedtuples\n",
    "Train = namedtuple(\"Train\", [\"Precision\",\"Recall\",\"F1\"])\n",
    "Test  = namedtuple(\"Test\", [\"Precision\",\"Recall\",\"F1\"])\n",
    "\n",
    "def evaluate(truth, predicted, which_set):\n",
    "    P = precision_score(truth, predicted, average=\"macro\")\n",
    "    R = recall_score(truth, predicted, average=\"macro\")\n",
    "    F = f1_score(truth, predicted, average=\"macro\")\n",
    "    if which_set==\"Train\":\n",
    "        return Train(P,R,F)  \n",
    "    else:\n",
    "         return Test(P,R,F)"
   ]
  },
  {
   "cell_type": "code",
   "execution_count": null,
   "metadata": {
    "id": "Rg7_8-UiTIvx"
   },
   "outputs": [],
   "source": [
    "# visualize classifier metrics\n",
    "def viz_res(DF, TITLE=None, FigSize=(12,8), MarkerSize=12, fnts=18):\n",
    "    fig,ax = plt.subplots(figsize=FigSize)\n",
    "    for which_set in DF.columns:\n",
    "        CLR = \"darkblue\" if which_set==\"Train\" else \"darkolivegreen\"\n",
    "        ax.plot(DF.index, [cell.Precision for cell in DF[which_set]],\n",
    "                color=CLR, marker=\"o\", markersize=MarkerSize, linewidth=0,\n",
    "                label=\"Precision for \"+str(which_set)+\" Set\")\n",
    "        ax.plot(DF.index, [cell.Recall for cell in DF[which_set]],\n",
    "                color=CLR, marker=\"x\", markersize=MarkerSize, linewidth=0,\n",
    "                label=\"Recall for \"+str(which_set)+\" Set\")\n",
    "        ax.plot(DF.index, [cell.F1 for cell in DF[which_set]],\n",
    "                color=CLR, marker=\"^\", markersize=MarkerSize, linewidth=0,\n",
    "                label=\"F1 for \"+str(which_set)+\" Set\")\n",
    "    for elements in ax.lines:\n",
    "        xs = elements.get_xydata()[:,0]\n",
    "        jittered_xs = xs + np.random.uniform(-0.25, 0.25, xs.shape)\n",
    "        elements.set_xdata(jittered_xs)\n",
    "        ax.relim()\n",
    "        ax.autoscale(enable=True)\n",
    "    plt.xlabel(\"Feature\", fontsize=fnts)\n",
    "    plt.ylabel(\"Score\", fontsize=fnts)\n",
    "    plt.ylim(0.5,1.05)\n",
    "    plt.legend(loc=\"upper center\", fontsize=int(0.8*fnts), ncol=2, bbox_to_anchor=(0.5,1.1))\n",
    "    if TITLE is not None:\n",
    "        plt.savefig(TITLE+\".png\")\n",
    "    plt.show()"
   ]
  },
  {
   "cell_type": "markdown",
   "metadata": {
    "id": "Pec9cqfPAbWo"
   },
   "source": [
    "# Naive Bayes Classifier"
   ]
  },
  {
   "cell_type": "code",
   "execution_count": null,
   "metadata": {
    "id": "T2zcjgrr_aH-"
   },
   "outputs": [],
   "source": [
    "NB = dict()"
   ]
  },
  {
   "cell_type": "code",
   "execution_count": null,
   "metadata": {
    "id": "Rrk5GubJ38Wc"
   },
   "outputs": [],
   "source": [
    "# Train from Counts\n",
    "NB_from_Counts = Pipeline([(\"vec_count\", CountVectorizer()), (\"clf\", MultinomialNB())])\n",
    "NB_from_Counts.fit(twenty_train.data, twenty_train.target)\n",
    "# predict for training set\n",
    "pred_train = NB_from_Counts.predict(twenty_train.data)\n",
    "# predict for test set\n",
    "pred_test = NB_from_Counts.predict(twenty_test.data)\n",
    "# evaluate\n",
    "NB[\"Counts\"] = [evaluate(twenty_train.target, pred_train, which_set=\"Train\"), evaluate(twenty_test.target, pred_test, which_set=\"Test\")]"
   ]
  },
  {
   "cell_type": "code",
   "execution_count": null,
   "metadata": {
    "id": "KkUxvb2q7O6m"
   },
   "outputs": [],
   "source": [
    "# Train from Term Frequency\n",
    "NB_from_TF = Pipeline([(\"vec_count\",CountVectorizer()), ('tf',TfidfTransformer(use_idf=False)), ('clf',MultinomialNB())])\n",
    "NB_from_TF.fit(twenty_train.data, twenty_train.target)\n",
    "# predict for training set\n",
    "pred_train = NB_from_TF.predict(twenty_train.data)\n",
    "# predict for test set\n",
    "pred_test = NB_from_TF.predict(twenty_test.data)\n",
    "# evaluate\n",
    "NB[\"TF\"] = [evaluate(twenty_train.target, pred_train, which_set=\"Train\"), evaluate(twenty_test.target, pred_test, which_set=\"Test\")]"
   ]
  },
  {
   "cell_type": "code",
   "execution_count": null,
   "metadata": {
    "id": "b8RDarUYoJ7O"
   },
   "outputs": [],
   "source": [
    "# Train from Term Frequency times Inverse Document Frequency\n",
    "NB_from_tfIDF = Pipeline([('vec_count',CountVectorizer()), ('tfidf',TfidfTransformer()), ('clf', MultinomialNB()),])\n",
    "NB_from_tfIDF.fit(twenty_train.data, twenty_train.target)\n",
    "# predict for training set\n",
    "pred_train = NB_from_tfIDF.predict(twenty_train.data)\n",
    "# predict for test set\n",
    "pred_test = NB_from_tfIDF.predict(twenty_test.data)\n",
    "# evaluate\n",
    "NB[\"tfIDF\"] = [evaluate(twenty_train.target, pred_train, which_set=\"Train\"), evaluate(twenty_test.target, pred_test, which_set=\"Test\")]"
   ]
  },
  {
   "cell_type": "code",
   "execution_count": null,
   "metadata": {
    "colab": {
     "base_uri": "https://localhost:8080/",
     "height": 141
    },
    "id": "S1eVs7ftG47F",
    "outputId": "c3cbf839-e50e-4144-e8fc-5eaec78cd8b2"
   },
   "outputs": [
    {
     "data": {
      "text/html": [
       "<div>\n",
       "<style scoped>\n",
       "    .dataframe tbody tr th:only-of-type {\n",
       "        vertical-align: middle;\n",
       "    }\n",
       "\n",
       "    .dataframe tbody tr th {\n",
       "        vertical-align: top;\n",
       "    }\n",
       "\n",
       "    .dataframe thead th {\n",
       "        text-align: right;\n",
       "    }\n",
       "</style>\n",
       "<table border=\"1\" class=\"dataframe\">\n",
       "  <thead>\n",
       "    <tr style=\"text-align: right;\">\n",
       "      <th></th>\n",
       "      <th>Train</th>\n",
       "      <th>Test</th>\n",
       "    </tr>\n",
       "  </thead>\n",
       "  <tbody>\n",
       "    <tr>\n",
       "      <th>Counts</th>\n",
       "      <td>(0.9348166390487324, 0.9228833755043991, 0.910...</td>\n",
       "      <td>(0.7621626411174734, 0.7636463041415988, 0.745...</td>\n",
       "    </tr>\n",
       "    <tr>\n",
       "      <th>TF</th>\n",
       "      <td>(0.8929939646270284, 0.819943011113042, 0.8114...</td>\n",
       "      <td>(0.7924314057319584, 0.6821951093902918, 0.672...</td>\n",
       "    </tr>\n",
       "    <tr>\n",
       "      <th>tfIDF</th>\n",
       "      <td>(0.9459403301595009, 0.9191027839411532, 0.919...</td>\n",
       "      <td>(0.8255310124210137, 0.756525006352595, 0.7557...</td>\n",
       "    </tr>\n",
       "  </tbody>\n",
       "</table>\n",
       "</div>"
      ],
      "text/plain": [
       "                                                    Train                                               Test\n",
       "Counts  (0.9348166390487324, 0.9228833755043991, 0.910...  (0.7621626411174734, 0.7636463041415988, 0.745...\n",
       "TF      (0.8929939646270284, 0.819943011113042, 0.8114...  (0.7924314057319584, 0.6821951093902918, 0.672...\n",
       "tfIDF   (0.9459403301595009, 0.9191027839411532, 0.919...  (0.8255310124210137, 0.756525006352595, 0.7557..."
      ]
     },
     "execution_count": 10,
     "metadata": {
      "tags": []
     },
     "output_type": "execute_result"
    }
   ],
   "source": [
    "# Organize results in a dataframe\n",
    "NaiveBayes = pd.DataFrame(NB, index=[\"Train\",\"Test\"]).transpose()\n",
    "NaiveBayes"
   ]
  },
  {
   "cell_type": "code",
   "execution_count": null,
   "metadata": {
    "colab": {
     "base_uri": "https://localhost:8080/",
     "height": 541
    },
    "id": "P77-2uEvYEQ6",
    "outputId": "2b6e35ac-e699-4ef5-fb9f-b40bc34ac603"
   },
   "outputs": [
    {
     "data": {
      "image/png": "[encoded data removed]",
      "text/plain": [
       "<Figure size 864x576 with 1 Axes>"
      ]
     },
     "metadata": {
      "needs_background": "light",
      "tags": []
     },
     "output_type": "display_data"
    }
   ],
   "source": [
    "viz_res(NaiveBayes, TITLE=\"Naive Bayes\")"
   ]
  },
  {
   "cell_type": "markdown",
   "metadata": {
    "id": "CvL6Rt4L3qyq"
   },
   "source": [
    "# Support Vector Machine Classifier"
   ]
  },
  {
   "cell_type": "code",
   "execution_count": null,
   "metadata": {
    "id": "aZQg9HgsO1En"
   },
   "outputs": [],
   "source": [
    "SVM = dict()"
   ]
  },
  {
   "cell_type": "code",
   "execution_count": null,
   "metadata": {
    "id": "HCF9mVYnFM7c"
   },
   "outputs": [],
   "source": [
    "# Train from Counts\n",
    "SVM_from_Counts = Pipeline([('vec_count', CountVectorizer()), \n",
    "                            ('clf', SGDClassifier(loss='hinge',penalty='l2',alpha=1e-3, random_state=59,max_iter=5, tol=None)),\n",
    "                          ])\n",
    "SVM_from_Counts.fit(twenty_train.data, twenty_train.target)\n",
    "# predict for training set\n",
    "pred_train = SVM_from_Counts.predict(twenty_train.data)\n",
    "# predict for test set\n",
    "pred_test = SVM_from_Counts.predict(twenty_test.data)\n",
    "# evaluate\n",
    "SVM[\"Counts\"] = [evaluate(twenty_train.target, pred_train, which_set=\"Train\"), evaluate(twenty_test.target, pred_test, which_set=\"Test\")]"
   ]
  },
  {
   "cell_type": "code",
   "execution_count": null,
   "metadata": {
    "id": "E9MJZHM1_4Ra"
   },
   "outputs": [],
   "source": [
    "# Train from Term Frequency\n",
    "SVM_from_TF = Pipeline([('vec_count', CountVectorizer()),\n",
    "                        ('tf', TfidfTransformer(use_idf=False)),\n",
    "                        ('clf', SGDClassifier(loss='hinge',penalty='l2',alpha=1e-3, random_state=79,max_iter=5, tol=None)),\n",
    "                       ])\n",
    "SVM_from_TF.fit(twenty_train.data, twenty_train.target)\n",
    "# predict for training set\n",
    "pred_train = SVM_from_TF.predict(twenty_train.data)\n",
    "# predict for test set\n",
    "pred_test = SVM_from_TF.predict(twenty_test.data)\n",
    "# evaluate\n",
    "SVM[\"TF\"] = [evaluate(twenty_train.target, pred_train, which_set=\"Train\"), evaluate(twenty_test.target, pred_test, which_set=\"Test\")]"
   ]
  },
  {
   "cell_type": "code",
   "execution_count": null,
   "metadata": {
    "id": "x1tPcs4r3tiM"
   },
   "outputs": [],
   "source": [
    "# Train from Term Frequency times Inverse Document Frequency\n",
    "SVM_from_tfIDF = Pipeline([('vec_count', CountVectorizer()),\n",
    "                           ('tfIDF', TfidfTransformer()),\n",
    "                           ('clf', SGDClassifier(loss='hinge',penalty='l2',alpha=1e-3, random_state=89,max_iter=5, tol=None)),\n",
    "                          ])\n",
    "SVM_from_tfIDF.fit(twenty_train.data, twenty_train.target)\n",
    "# predict for training set\n",
    "pred_train = SVM_from_tfIDF.predict(twenty_train.data)\n",
    "# predict for test set\n",
    "pred_test = SVM_from_tfIDF.predict(twenty_test.data)\n",
    "# evaluate\n",
    "SVM[\"tfIDF\"] = [evaluate(twenty_train.target, pred_train, which_set=\"Train\"), evaluate(twenty_test.target, pred_test, which_set=\"Test\")]"
   ]
  },
  {
   "cell_type": "code",
   "execution_count": null,
   "metadata": {
    "colab": {
     "base_uri": "https://localhost:8080/",
     "height": 141
    },
    "id": "KEww0q8-Sy5P",
    "outputId": "9d6f61e3-c239-4205-fdf0-67f9c164cc3d"
   },
   "outputs": [
    {
     "data": {
      "text/html": [
       "<div>\n",
       "<style scoped>\n",
       "    .dataframe tbody tr th:only-of-type {\n",
       "        vertical-align: middle;\n",
       "    }\n",
       "\n",
       "    .dataframe tbody tr th {\n",
       "        vertical-align: top;\n",
       "    }\n",
       "\n",
       "    .dataframe thead th {\n",
       "        text-align: right;\n",
       "    }\n",
       "</style>\n",
       "<table border=\"1\" class=\"dataframe\">\n",
       "  <thead>\n",
       "    <tr style=\"text-align: right;\">\n",
       "      <th></th>\n",
       "      <th>Train</th>\n",
       "      <th>Test</th>\n",
       "    </tr>\n",
       "  </thead>\n",
       "  <tbody>\n",
       "    <tr>\n",
       "      <th>Counts</th>\n",
       "      <td>(0.9824892496018329, 0.9815918034591045, 0.981...</td>\n",
       "      <td>(0.7632170414670428, 0.7504747715611877, 0.752...</td>\n",
       "    </tr>\n",
       "    <tr>\n",
       "      <th>TF</th>\n",
       "      <td>(0.9176231701818622, 0.9055953533969816, 0.907...</td>\n",
       "      <td>(0.7789606373330445, 0.760413000061468, 0.7561...</td>\n",
       "    </tr>\n",
       "    <tr>\n",
       "      <th>tfIDF</th>\n",
       "      <td>(0.9676615733861244, 0.9619546416193036, 0.963...</td>\n",
       "      <td>(0.8267458608117908, 0.8120874662717542, 0.810...</td>\n",
       "    </tr>\n",
       "  </tbody>\n",
       "</table>\n",
       "</div>"
      ],
      "text/plain": [
       "                                                    Train                                               Test\n",
       "Counts  (0.9824892496018329, 0.9815918034591045, 0.981...  (0.7632170414670428, 0.7504747715611877, 0.752...\n",
       "TF      (0.9176231701818622, 0.9055953533969816, 0.907...  (0.7789606373330445, 0.760413000061468, 0.7561...\n",
       "tfIDF   (0.9676615733861244, 0.9619546416193036, 0.963...  (0.8267458608117908, 0.8120874662717542, 0.810..."
      ]
     },
     "execution_count": 17,
     "metadata": {
      "tags": []
     },
     "output_type": "execute_result"
    }
   ],
   "source": [
    "# Organize results in a dataframe\n",
    "SupportVectorMachine = pd.DataFrame(SVM, index=[\"Train\",\"Test\"]).transpose()\n",
    "SupportVectorMachine"
   ]
  },
  {
   "cell_type": "code",
   "execution_count": null,
   "metadata": {
    "colab": {
     "base_uri": "https://localhost:8080/",
     "height": 541
    },
    "id": "xGhWcTeWPCmi",
    "outputId": "17bb3198-5eaf-41de-e765-4761347fcb1b"
   },
   "outputs": [
    {
     "data": {
      "image/png": "[encoded data removed]",
      "text/plain": [
       "<Figure size 864x576 with 1 Axes>"
      ]
     },
     "metadata": {
      "needs_background": "light",
      "tags": []
     },
     "output_type": "display_data"
    }
   ],
   "source": [
    "viz_res(SupportVectorMachine, TITLE=\"Support Vector Machine\")"
   ]
  },
  {
   "cell_type": "markdown",
   "metadata": {
    "id": "C2_IfaP_LhtY"
   },
   "source": [
    "# Decision Tree Classifier"
   ]
  },
  {
   "cell_type": "code",
   "execution_count": null,
   "metadata": {
    "id": "ykIBp6GF0GWX"
   },
   "outputs": [],
   "source": [
    "DT = dict()"
   ]
  },
  {
   "cell_type": "code",
   "execution_count": null,
   "metadata": {
    "id": "sK-InFpYLjoa"
   },
   "outputs": [],
   "source": [
    "# Train from Counts\n",
    "DT_from_Counts = Pipeline([(\"vec_count\",CountVectorizer()), (\"clf\",DecisionTreeClassifier())])\n",
    "DT_from_Counts.fit(twenty_train.data, twenty_train.target)\n",
    "# predict for training set\n",
    "pred_train = DT_from_Counts.predict(twenty_train.data)\n",
    "# predict for test set\n",
    "pred_test = DT_from_Counts.predict(twenty_test.data)\n",
    "# evaluate\n",
    "DT[\"Counts\"] = [evaluate(twenty_train.target, pred_train, which_set=\"Train\"), evaluate(twenty_test.target, pred_test, which_set=\"Test\")]"
   ]
  },
  {
   "cell_type": "code",
   "execution_count": null,
   "metadata": {
    "id": "v7TcVmGp0lGj"
   },
   "outputs": [],
   "source": [
    "# Train from Term Frequency\n",
    "DT_from_TF = Pipeline([(\"vec_count\",CountVectorizer()), ('tf',TfidfTransformer(use_idf=False)), (\"clf\",DecisionTreeClassifier())])\n",
    "DT_from_TF.fit(twenty_train.data, twenty_train.target)\n",
    "# predict for training set\n",
    "pred_train = DT_from_TF.predict(twenty_train.data)\n",
    "# predict for test set\n",
    "pred_test = DT_from_TF.predict(twenty_test.data)\n",
    "# evaluate\n",
    "DT[\"TF\"]= [evaluate(twenty_train.target, pred_train, which_set=\"Train\"), evaluate(twenty_test.target, pred_test, which_set=\"Test\")]"
   ]
  },
  {
   "cell_type": "code",
   "execution_count": null,
   "metadata": {
    "id": "O5glVYWz4yO5"
   },
   "outputs": [],
   "source": [
    "# Train from Term Frequency times Inverse Document Frequency\n",
    "DT_from_tfIDF = Pipeline([(\"vec_count\",CountVectorizer()), ('tfIDF',TfidfTransformer()), (\"clf\",DecisionTreeClassifier())])\n",
    "DT_from_tfIDF.fit(twenty_train.data, twenty_train.target)\n",
    "# predict for training set\n",
    "pred_train = DT_from_tfIDF.predict(twenty_train.data)\n",
    "# predict for test set\n",
    "pred_test = DT_from_tfIDF.predict(twenty_test.data)\n",
    "# evaluate\n",
    "DT[\"tfIDF\"]= [evaluate(twenty_train.target, pred_train, which_set=\"Train\"), evaluate(twenty_test.target, pred_test, which_set=\"Test\")]"
   ]
  },
  {
   "cell_type": "code",
   "execution_count": null,
   "metadata": {
    "colab": {
     "base_uri": "https://localhost:8080/",
     "height": 141
    },
    "id": "0Ox5tpBD0LSL",
    "outputId": "66a814ad-71d8-419d-f00e-6337f8b024e4"
   },
   "outputs": [
    {
     "data": {
      "text/html": [
       "<div>\n",
       "<style scoped>\n",
       "    .dataframe tbody tr th:only-of-type {\n",
       "        vertical-align: middle;\n",
       "    }\n",
       "\n",
       "    .dataframe tbody tr th {\n",
       "        vertical-align: top;\n",
       "    }\n",
       "\n",
       "    .dataframe thead th {\n",
       "        text-align: right;\n",
       "    }\n",
       "</style>\n",
       "<table border=\"1\" class=\"dataframe\">\n",
       "  <thead>\n",
       "    <tr style=\"text-align: right;\">\n",
       "      <th></th>\n",
       "      <th>Train</th>\n",
       "      <th>Test</th>\n",
       "    </tr>\n",
       "  </thead>\n",
       "  <tbody>\n",
       "    <tr>\n",
       "      <th>Counts</th>\n",
       "      <td>(0.9999159663865547, 0.9999163879598661, 0.999...</td>\n",
       "      <td>(0.5634115799135299, 0.5618273084613687, 0.561...</td>\n",
       "    </tr>\n",
       "    <tr>\n",
       "      <th>TF</th>\n",
       "      <td>(0.9999159663865547, 0.9999163879598661, 0.999...</td>\n",
       "      <td>(0.5590388429256622, 0.5532367521595069, 0.554...</td>\n",
       "    </tr>\n",
       "    <tr>\n",
       "      <th>tfIDF</th>\n",
       "      <td>(0.9999159663865547, 0.9999163879598661, 0.999...</td>\n",
       "      <td>(0.5538560375169908, 0.5499613367618847, 0.550...</td>\n",
       "    </tr>\n",
       "  </tbody>\n",
       "</table>\n",
       "</div>"
      ],
      "text/plain": [
       "                                                    Train                                               Test\n",
       "Counts  (0.9999159663865547, 0.9999163879598661, 0.999...  (0.5634115799135299, 0.5618273084613687, 0.561...\n",
       "TF      (0.9999159663865547, 0.9999163879598661, 0.999...  (0.5590388429256622, 0.5532367521595069, 0.554...\n",
       "tfIDF   (0.9999159663865547, 0.9999163879598661, 0.999...  (0.5538560375169908, 0.5499613367618847, 0.550..."
      ]
     },
     "execution_count": 29,
     "metadata": {
      "tags": []
     },
     "output_type": "execute_result"
    }
   ],
   "source": [
    "# Organize results in a dataframe\n",
    "DecisionTree = pd.DataFrame(DT, index=[\"Train\",\"Test\"]).transpose()\n",
    "DecisionTree"
   ]
  },
  {
   "cell_type": "code",
   "execution_count": null,
   "metadata": {
    "colab": {
     "base_uri": "https://localhost:8080/",
     "height": 541
    },
    "id": "--St8KRebkuz",
    "outputId": "3d8c4adf-dae7-48e0-e46d-508bc4bf9c52"
   },
   "outputs": [
    {
     "data": {
      "image/png": "[encoded data removed]",
      "text/plain": [
       "<Figure size 864x576 with 1 Axes>"
      ]
     },
     "metadata": {
      "needs_background": "light",
      "tags": []
     },
     "output_type": "display_data"
    }
   ],
   "source": [
    "viz_res(DecisionTree, TITLE=\"Decision Tree\")"
   ]
  },
  {
   "cell_type": "markdown",
   "metadata": {
    "id": "c9R8cHJ-CZ2K"
   },
   "source": [
    "# Random Forest Classifier"
   ]
  },
  {
   "cell_type": "code",
   "execution_count": null,
   "metadata": {
    "id": "GgpRD__SCc-Q"
   },
   "outputs": [],
   "source": [
    "RF = dict()"
   ]
  },
  {
   "cell_type": "code",
   "execution_count": null,
   "metadata": {
    "id": "MOHUfKV0ClCP"
   },
   "outputs": [],
   "source": [
    "# Train from Counts\n",
    "RF_from_Counts = Pipeline([(\"vec_count\",CountVectorizer()), (\"clf\",RandomForestClassifier())])\n",
    "RF_from_Counts.fit(twenty_train.data, twenty_train.target)\n",
    "# predict for training set\n",
    "pred_train = RF_from_Counts.predict(twenty_train.data)\n",
    "# predict for test set\n",
    "pred_test = RF_from_Counts.predict(twenty_test.data)\n",
    "# evaluate\n",
    "RF[\"Counts\"] = [evaluate(twenty_train.target, pred_train, which_set=\"Train\"), evaluate(twenty_test.target, pred_test, which_set=\"Test\")]"
   ]
  },
  {
   "cell_type": "code",
   "execution_count": null,
   "metadata": {
    "id": "2861Q2suDKqe"
   },
   "outputs": [],
   "source": [
    "# Train from Term Frequency\n",
    "RF_from_TF = Pipeline([(\"vec_count\",CountVectorizer()), ('tf',TfidfTransformer(use_idf=False)), (\"clf\",RandomForestClassifier())])\n",
    "RF_from_TF.fit(twenty_train.data, twenty_train.target)\n",
    "# predict for training set\n",
    "pred_train = RF_from_TF.predict(twenty_train.data)\n",
    "# predict for test set\n",
    "pred_test = RF_from_TF.predict(twenty_test.data)\n",
    "# evaluate\n",
    "RF[\"TF\"]= [evaluate(twenty_train.target, pred_train, which_set=\"Train\"), evaluate(twenty_test.target, pred_test, which_set=\"Test\")]"
   ]
  },
  {
   "cell_type": "code",
   "execution_count": null,
   "metadata": {
    "id": "m4okBR6vDtTm"
   },
   "outputs": [],
   "source": [
    "# Train from Term Frequency times Inverse Document Frequency\n",
    "RF_from_tfIDF = Pipeline([(\"vec_count\",CountVectorizer()), ('tfIDF',TfidfTransformer()), (\"clf\",RandomForestClassifier())])\n",
    "RF_from_tfIDF.fit(twenty_train.data, twenty_train.target)\n",
    "# predict for training set\n",
    "pred_train = RF_from_tfIDF.predict(twenty_train.data)\n",
    "# predict for test set\n",
    "pred_test = RF_from_tfIDF.predict(twenty_test.data)\n",
    "# evaluate\n",
    "RF[\"tfIDF\"]= [evaluate(twenty_train.target, pred_train, which_set=\"Train\"), evaluate(twenty_test.target, pred_test, which_set=\"Test\")]"
   ]
  },
  {
   "cell_type": "code",
   "execution_count": null,
   "metadata": {
    "colab": {
     "base_uri": "https://localhost:8080/",
     "height": 141
    },
    "id": "M_f6aU2lD52j",
    "outputId": "278acab8-a755-4d2b-d18b-6984b7e9793b"
   },
   "outputs": [
    {
     "data": {
      "text/html": [
       "<div>\n",
       "<style scoped>\n",
       "    .dataframe tbody tr th:only-of-type {\n",
       "        vertical-align: middle;\n",
       "    }\n",
       "\n",
       "    .dataframe tbody tr th {\n",
       "        vertical-align: top;\n",
       "    }\n",
       "\n",
       "    .dataframe thead th {\n",
       "        text-align: right;\n",
       "    }\n",
       "</style>\n",
       "<table border=\"1\" class=\"dataframe\">\n",
       "  <thead>\n",
       "    <tr style=\"text-align: right;\">\n",
       "      <th></th>\n",
       "      <th>Train</th>\n",
       "      <th>Test</th>\n",
       "    </tr>\n",
       "  </thead>\n",
       "  <tbody>\n",
       "    <tr>\n",
       "      <th>Counts</th>\n",
       "      <td>(0.9999165275459099, 0.9999158249158249, 0.999...</td>\n",
       "      <td>(0.7748144814873491, 0.7515762536254069, 0.750...</td>\n",
       "    </tr>\n",
       "    <tr>\n",
       "      <th>TF</th>\n",
       "      <td>(0.9999165275459099, 0.9999158249158249, 0.999...</td>\n",
       "      <td>(0.77082372552353, 0.745554870527543, 0.744200...</td>\n",
       "    </tr>\n",
       "    <tr>\n",
       "      <th>tfIDF</th>\n",
       "      <td>(0.9999165275459099, 0.9999158249158249, 0.999...</td>\n",
       "      <td>(0.769000377395874, 0.7475144124122599, 0.7453...</td>\n",
       "    </tr>\n",
       "  </tbody>\n",
       "</table>\n",
       "</div>"
      ],
      "text/plain": [
       "                                                    Train                                               Test\n",
       "Counts  (0.9999165275459099, 0.9999158249158249, 0.999...  (0.7748144814873491, 0.7515762536254069, 0.750...\n",
       "TF      (0.9999165275459099, 0.9999158249158249, 0.999...  (0.77082372552353, 0.745554870527543, 0.744200...\n",
       "tfIDF   (0.9999165275459099, 0.9999158249158249, 0.999...  (0.769000377395874, 0.7475144124122599, 0.7453..."
      ]
     },
     "execution_count": 40,
     "metadata": {
      "tags": []
     },
     "output_type": "execute_result"
    }
   ],
   "source": [
    "# Organize results in a datafram\n",
    "RandomForest = pd.DataFrame(RF, index=[\"Train\",\"Test\"]).transpose()\n",
    "RandomForest"
   ]
  },
  {
   "cell_type": "code",
   "execution_count": null,
   "metadata": {
    "colab": {
     "base_uri": "https://localhost:8080/",
     "height": 541
    },
    "id": "mN3Ra9IVEFkn",
    "outputId": "da4c4452-42dc-4964-c276-7696ff4fb816"
   },
   "outputs": [
    {
     "data": {
      "image/png": "[encoded data removed]",
      "text/plain": [
       "<Figure size 864x576 with 1 Axes>"
      ]
     },
     "metadata": {
      "needs_background": "light",
      "tags": []
     },
     "output_type": "display_data"
    }
   ],
   "source": [
    "viz_res(RandomForest, TITLE=\"Random Forest\")"
   ]
  },
  {
   "cell_type": "code",
   "execution_count": null,
   "metadata": {
    "id": "gFco0jmjLt_M"
   },
   "outputs": [],
   "source": [
    "RAW = dict()\n",
    "RAW[\"Naive Bayes\"] = NaiveBayes\n",
    "RAW[\"SVM\"] = SupportVectorMachine\n",
    "RAW[\"Decision Tree\"] = DecisionTree\n",
    "RAW[\"Random Forest\"] = RandomForest\n",
    "dump(RAW, open(\"RawMetrics.p\",\"wb\"))"
   ]
  },
  {
   "cell_type": "markdown",
   "metadata": {
    "id": "3juA5X1kLo_B"
   },
   "source": [
    "# Hyperparameters Tuning\n",
    "\n",
    "All classifiers work sufficiently well on the training set. We will only report the performance metrics on the test set, after tuning four hyperparameters."
   ]
  },
  {
   "cell_type": "code",
   "execution_count": null,
   "metadata": {
    "id": "fNgBEhsgfMV0"
   },
   "outputs": [],
   "source": [
    "from sklearn.model_selection import GridSearchCV"
   ]
  },
  {
   "cell_type": "markdown",
   "metadata": {
    "id": "zk-8KnmrfwfA"
   },
   "source": [
    "# Tuned Performance of Classifiers"
   ]
  },
  {
   "cell_type": "code",
   "execution_count": 4,
   "metadata": {
    "id": "m7aHDeBfRTBz"
   },
   "outputs": [],
   "source": [
    "def generate(CLASSIFIER):\n",
    "    lst = list()\n",
    "    # predict from Occurrence\n",
    "    from_Counts = Pipeline([(\"vec_count\", CountVectorizer(stop_words='english')), (\"clf\", CLASSIFIER)])\n",
    "    from_Counts.fit(twenty_train.data, twenty_train.target)\n",
    "    pred = from_Counts.predict(twenty_test.data)\n",
    "    lst.append(evaluate(twenty_test.target, pred, which_set=\"Test\"))\n",
    "    # predict from TF\n",
    "    from_TF = Pipeline([(\"vec_count\",CountVectorizer(stop_words='english')), ('tf',TfidfTransformer(use_idf=False)), ('clf',CLASSIFIER)])\n",
    "    from_TF.fit(twenty_train.data, twenty_train.target)\n",
    "    pred = from_TF.predict(twenty_test.data)\n",
    "    lst.append(evaluate(twenty_test.target, pred, which_set=\"Test\"))\n",
    "    # predict from TF-IDF\n",
    "    from_tfIDF = Pipeline([('vec_count',CountVectorizer(stop_words='english')), ('tfidf',TfidfTransformer()), ('clf', CLASSIFIER),])\n",
    "    from_tfIDF.fit(twenty_train.data, twenty_train.target)\n",
    "    pred = from_tfIDF.predict(twenty_test.data)\n",
    "    lst.append(evaluate(twenty_test.target, pred, which_set=\"Test\"))\n",
    "    return lst"
   ]
  },
  {
   "cell_type": "code",
   "execution_count": 7,
   "metadata": {
    "colab": {
     "base_uri": "https://localhost:8080/",
     "height": 245
    },
    "id": "qQw2INV_WkDS",
    "outputId": "2de463de-41ca-41e0-bcf2-05591a8088c5"
   },
   "outputs": [
    {
     "data": {
      "text/html": [
       "<div>\n",
       "<style scoped>\n",
       "    .dataframe tbody tr th:only-of-type {\n",
       "        vertical-align: middle;\n",
       "    }\n",
       "\n",
       "    .dataframe tbody tr th {\n",
       "        vertical-align: top;\n",
       "    }\n",
       "\n",
       "    .dataframe thead th {\n",
       "        text-align: right;\n",
       "    }\n",
       "</style>\n",
       "<table border=\"1\" class=\"dataframe\">\n",
       "  <thead>\n",
       "    <tr style=\"text-align: right;\">\n",
       "      <th></th>\n",
       "      <th>Naive Bayes</th>\n",
       "      <th>SVM</th>\n",
       "      <th>Decision Tree</th>\n",
       "      <th>Random Forest</th>\n",
       "    </tr>\n",
       "  </thead>\n",
       "  <tbody>\n",
       "    <tr>\n",
       "      <th>Occurrence</th>\n",
       "      <td>(0.8130059389269247, 0.7941583643861938, 0.778...</td>\n",
       "      <td>(0.7721601904081339, 0.7684601097154415, 0.767...</td>\n",
       "      <td>(0.5889926333277281, 0.5808592426899768, 0.582...</td>\n",
       "      <td>(0.7954908182812239, 0.7756096069291468, 0.775...</td>\n",
       "    </tr>\n",
       "    <tr>\n",
       "      <th>TF</th>\n",
       "      <td>(0.8140239067153182, 0.7724144858234616, 0.765...</td>\n",
       "      <td>(0.7925495292077662, 0.7760949486874286, 0.772...</td>\n",
       "      <td>(0.5620867937379043, 0.5590482005634667, 0.559...</td>\n",
       "      <td>(0.7887915007803081, 0.7720598095838982, 0.772...</td>\n",
       "    </tr>\n",
       "    <tr>\n",
       "      <th>TF-IDF</th>\n",
       "      <td>(0.8367634643937156, 0.8022683859017992, 0.799...</td>\n",
       "      <td>(0.8248536998550968, 0.8108138333338774, 0.809...</td>\n",
       "      <td>(0.5657523758860092, 0.5601938036424713, 0.560...</td>\n",
       "      <td>(0.7918885655472214, 0.771580896780798, 0.7711...</td>\n",
       "    </tr>\n",
       "  </tbody>\n",
       "</table>\n",
       "</div>"
      ],
      "text/plain": [
       "                                                  Naive Bayes  ...                                      Random Forest\n",
       "Occurrence  (0.8130059389269247, 0.7941583643861938, 0.778...  ...  (0.7954908182812239, 0.7756096069291468, 0.775...\n",
       "TF          (0.8140239067153182, 0.7724144858234616, 0.765...  ...  (0.7887915007803081, 0.7720598095838982, 0.772...\n",
       "TF-IDF      (0.8367634643937156, 0.8022683859017992, 0.799...  ...  (0.7918885655472214, 0.771580896780798, 0.7711...\n",
       "\n",
       "[3 rows x 4 columns]"
      ]
     },
     "execution_count": 7,
     "metadata": {
      "tags": []
     },
     "output_type": "execute_result"
    }
   ],
   "source": [
    "# row = feature, column = classifier, cell = (P,R,F)\n",
    "from random import randint\n",
    "DF = dict()\n",
    "Classifier = [\"Naive Bayes\", \"SVM\", \"Decision Tree\", \"Random Forest\"]\n",
    "Pipes = [MultinomialNB(), \n",
    "         SGDClassifier(loss='hinge',penalty='l2',alpha=1e-3, random_state=randint(100,500),max_iter=5, tol=None),\n",
    "         DecisionTreeClassifier(),\n",
    "         RandomForestClassifier()]\n",
    "    \n",
    "for CLF,PIP in zip(Classifier,Pipes):\n",
    "    DF[CLF] = generate(PIP) \n"
   ]
  },
  {
   "cell_type": "code",
   "execution_count": 8,
   "metadata": {
    "id": "3_Q2Q4UfWh7q"
   },
   "outputs": [],
   "source": [
    "DF = pd.DataFrame(DF, index=[\"Occurrence\",\"TF\",\"TF-IDF\"])"
   ]
  },
  {
   "cell_type": "code",
   "execution_count": 82,
   "metadata": {
    "id": "sEiL-3MLgPXg"
   },
   "outputs": [],
   "source": [
    "def compare_viz(DF, TITLE=None, FigSize=(8,5), MarkerSize=8, fnts=14):\n",
    "    CLR = [\"darkorange\", \"darkviolet\", \"darkred\", \"dimgray\"]\n",
    "    pic,axs = plt.subplots(figsize=FigSize)\n",
    "    for i,row in enumerate(DF.index):\n",
    "        axs.plot(DF.columns, [ele.Precision for ele in DF.loc[row,]],\n",
    "                 color=CLR[i], marker='o', markersize=MarkerSize, linewidth=0,\n",
    "                 label=\"Precision by \"+str(row))\n",
    "        axs.plot(DF.columns, [ele.Recall for ele in DF.loc[row,]],\n",
    "                 color=CLR[i], marker='x', markersize=MarkerSize, linewidth=0,\n",
    "                 label=\"Recall by \"+str(row))\n",
    "        axs.plot(DF.columns, [ele.F1 for ele in DF.loc[row,]],\n",
    "                 color=CLR[i], marker='^', markersize=MarkerSize, linewidth=0,\n",
    "                 label=\"F1 by \"+str(row))\n",
    "    for elements in axs.lines:\n",
    "        xs = elements.get_xydata()[:,0]\n",
    "        jittered_xs = xs + np.random.uniform(-0.35, 0.35, xs.shape)\n",
    "        elements.set_xdata(jittered_xs)\n",
    "    axs.relim()\n",
    "    axs.autoscale(enable=True)\n",
    "    plt.xlabel(\"Classifier\", fontsize=fnts)\n",
    "    plt.ylabel(\"Accuracy Score\", fontsize=fnts)\n",
    "    plt.ylim(0.5, 1.05)\n",
    "    plt.legend(loc=\"upper center\", fontsize=int(0.8*fnts), \n",
    "               bbox_to_anchor=(0.5, 1.2), ncol=3, fancybox=True)\n",
    "    if TITLE is not None:\n",
    "        plt.savefig(TITLE)\n",
    "    plt.show()"
   ]
  },
  {
   "cell_type": "code",
   "execution_count": 84,
   "metadata": {
    "colab": {
     "base_uri": "https://localhost:8080/",
     "height": 387
    },
    "id": "CfbdI-oFxlkW",
    "outputId": "1633ec68-f9c7-49de-a7da-5ccfab4a9541"
   },
   "outputs": [
    {
     "data": {
      "image/png": "[encoded data removed]",
      "text/plain": [
       "<Figure size 576x360 with 1 Axes>"
      ]
     },
     "metadata": {
      "needs_background": "light",
      "tags": []
     },
     "output_type": "display_data"
    }
   ],
   "source": [
    "compare_viz(DF, TITLE=\"Compare.png\")"
   ]
  },
  {
   "cell_type": "code",
   "execution_count": 44,
   "metadata": {
    "colab": {
     "base_uri": "https://localhost:8080/",
     "height": 139
    },
    "id": "YVfgc02OZEjQ",
    "outputId": "3677a648-f00a-41c3-9aa9-5982c71415cc"
   },
   "outputs": [
    {
     "data": {
      "application/vnd.google.colaboratory.intrinsic+json": {
       "type": "string"
      },
      "text/plain": [
       "'\\\\begin{tabular}{lllll}\\n\\\\toprule\\n{} &                                        Naive Bayes &                                                SVM &                                      Decision Tree &                                      Random Forest \\\\\\\\\\n\\\\midrule\\nOccurrence &  (0.8130059389269247, 0.7941583643861938, 0.778... &  (0.7721601904081339, 0.7684601097154415, 0.767... &  (0.5889926333277281, 0.5808592426899768, 0.582... &  (0.7954908182812239, 0.7756096069291468, 0.775... \\\\\\\\\\nTF         &  (0.8140239067153182, 0.7724144858234616, 0.765... &  (0.7925495292077662, 0.7760949486874286, 0.772... &  (0.5620867937379043, 0.5590482005634667, 0.559... &  (0.7887915007803081, 0.7720598095838982, 0.772... \\\\\\\\\\nTF-IDF     &  (0.8367634643937156, 0.8022683859017992, 0.799... &  (0.8248536998550968, 0.8108138333338774, 0.809... &  (0.5657523758860092, 0.5601938036424713, 0.560... &  (0.7918885655472214, 0.771580896780798, 0.7711... \\\\\\\\\\n\\\\bottomrule\\n\\\\end{tabular}\\n'"
      ]
     },
     "execution_count": 44,
     "metadata": {
      "tags": []
     },
     "output_type": "execute_result"
    }
   ],
   "source": [
    "DF.to_latex(float_format=\"%.2f\")"
   ]
  },
  {
   "cell_type": "code",
   "execution_count": null,
   "metadata": {
    "id": "4575sArzZj4T"
   },
   "outputs": [],
   "source": []
  }
 ],
 "metadata": {
  "colab": {
   "authorship_tag": "ABX9TyPsZ3o2gta4D+1pDjoml1B9",
   "collapsed_sections": [],
   "include_colab_link": true,
   "name": "TM A1.ipynb",
   "provenance": [],
   "toc_visible": true
  },
  "interpreter": {
   "hash": "63ca0c8d3a239235585b09f22bd374cae13a775a92515e346cda6a4d44a7b14d"
  },
  "kernelspec": {
   "display_name": "Python 3.8.12 64-bit ('dl_env': conda)",
   "name": "python3"
  },
  "language_info": {
   "codemirror_mode": {
    "name": "ipython",
    "version": 3
   },
   "file_extension": ".py",
   "mimetype": "text/x-python",
   "name": "python",
   "nbconvert_exporter": "python",
   "pygments_lexer": "ipython3",
   "version": "3.8.12"
  }
 },
 "nbformat": 4,
 "nbformat_minor": 1
}
