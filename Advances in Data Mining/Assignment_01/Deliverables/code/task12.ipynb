{
 "cells": [
  {
   "cell_type": "code",
   "execution_count": 59,
   "metadata": {},
   "outputs": [],
   "source": [
    "import pandas as pd\n",
    "import numpy as np\n",
    "from sklearn.linear_model import LinearRegression\n",
    "import time\n",
    "import matplotlib.pyplot as plt"
   ]
  },
  {
   "cell_type": "code",
   "execution_count": 10,
   "metadata": {},
   "outputs": [],
   "source": [
    "ratings=pd.read_table('ml-1m\\\\ratings.dat',sep='::',header=None,engine='python',names=['UserID','MovieID','Rating','Timestamp'])\n",
    "ratings.drop(columns=['Timestamp'],inplace=True)"
   ]
  },
  {
   "cell_type": "code",
   "execution_count": 8,
   "metadata": {},
   "outputs": [],
   "source": [
    "def global_rating(train):\n",
    "    return(np.mean(train['Rating']))\n",
    "def user_rating(train):   \n",
    "    return(train.groupby('UserID',as_index=False)['Rating'].mean())\n",
    "def item_rating(train):\n",
    "    return(train.groupby('MovieID',as_index=False)['Rating'].mean())\n",
    "def item_user(train):\n",
    "    user=user_rating(train)\n",
    "    movie=item_rating(train)\n",
    "    X=pd.merge(pd.merge(train,pd.DataFrame(user),on=['UserID']),pd.DataFrame(movie),on=['MovieID'],sort=False)\n",
    "    y=X['Rating_x'] \n",
    "    X=X[['Rating_y','Rating']]\n",
    "    #reg = LinearRegression().fit(X, y)\n",
    "    return(y,X) \n"
   ]
  },
  {
   "cell_type": "code",
   "execution_count": 7,
   "metadata": {},
   "outputs": [],
   "source": [
    "def global_pred(train,test):\n",
    "    g=global_rating(train)\n",
    "    return(g,g,train['Rating'],test['Rating'])\n",
    "def user_rating_pred(train,test):\n",
    "    g=global_rating(train)\n",
    "    user=user_rating(train)\n",
    "    res=pd.merge(test,pd.DataFrame(user),on=['UserID'],how='left',sort=False)\n",
    "    res.loc[res['Rating_y'].isnull(),'Rating_y']=g\n",
    "    res_2=pd.merge(train,pd.DataFrame(user),on=['UserID'],sort=False)\n",
    "    train_label=res_2['Rating_x']\n",
    "    train_pred=res_2['Rating_y']\n",
    "    test_pred=res['Rating_y']\n",
    "    test_label=res['Rating_x']\n",
    "    return(train_pred,test_pred,train_label,test_label)\n",
    "def movie_rating_pred(train,test):\n",
    "    g=global_rating(train)\n",
    "    movie=item_rating(train)\n",
    "    res=pd.merge(test,pd.DataFrame(movie),on=['MovieID'],how='left',sort=False)\n",
    "    res.loc[res['Rating_y'].isnull(),'Rating_y']=g\n",
    "    res_2=pd.merge(train,pd.DataFrame(movie),on=['MovieID'],sort=False)\n",
    "    train_label=res_2['Rating_x']\n",
    "    train_pred=res_2['Rating_y']\n",
    "    test_pred=res['Rating_y']\n",
    "    test_label=res['Rating_x']\n",
    "    return(train_pred,test_pred,train_label,test_label)\n",
    "def item_user_pred(train,test):\n",
    "    g=global_rating(train)\n",
    "    y_train,X_train=item_user(train)\n",
    "    reg = LinearRegression().fit(X_train, y_train)\n",
    "    user=user_rating(train)\n",
    "    movie=item_rating(train)\n",
    "    X=pd.merge(pd.merge(test,pd.DataFrame(user),on=['UserID'],how='left'),pd.DataFrame(movie),on=['MovieID'],how='left',sort=False)\n",
    "    test_label=X['Rating_x']  \n",
    "    X=X[['Rating_y','Rating']]\n",
    "    X.fillna(g, inplace=True)\n",
    "    pred_test=reg.predict(X)\n",
    "    X_train=pd.merge(pd.merge(train,pd.DataFrame(user),on=['UserID']),pd.DataFrame(movie),on=['MovieID'],sort=False)\n",
    "    train_label=X_train['Rating_x']  \n",
    "    X_train=X_train[['Rating_y','Rating']]\n",
    "    pred_train=reg.predict(X_train)\n",
    "    pred_test[pred_test>5]=5\n",
    "    pred_test[pred_test<1]=1\n",
    "    pred_train[pred_train>5]=5\n",
    "    pred_train[pred_train<1]=1\n",
    "    return(pred_train,pred_test,train_label,test_label)\n",
    "def item_user_pred_2(train,test):\n",
    "    g=global_rating(train)\n",
    "    y_train,X_train=item_user(train)\n",
    "    reg = LinearRegression(fit_intercept=False).fit(X_train, y_train)\n",
    "    user=user_rating(train)\n",
    "    movie=item_rating(train)\n",
    "    X=pd.merge(pd.merge(test,pd.DataFrame(user),on=['UserID'],how='left'),pd.DataFrame(movie),on=['MovieID'],how='left',sort=False)\n",
    "    test_label=X['Rating_x']  \n",
    "    X=X[['Rating_y','Rating']]\n",
    "    X.fillna(g, inplace=True)\n",
    "    pred_test=reg.predict(X)\n",
    "    X_train=pd.merge(pd.merge(train,pd.DataFrame(user),on=['UserID']),pd.DataFrame(movie),on=['MovieID'],sort=False)\n",
    "    train_label=X_train['Rating_x']  \n",
    "    X_train=X_train[['Rating_y','Rating']]\n",
    "    pred_train=reg.predict(X_train)\n",
    "    pred_test[pred_test>5]=5\n",
    "    pred_test[pred_test<1]=1\n",
    "    pred_train[pred_train>5]=5\n",
    "    pred_train[pred_train<1]=1\n",
    "    return(pred_train,pred_test,train_label,test_label)"
   ]
  },
  {
   "cell_type": "code",
   "execution_count": 5,
   "metadata": {},
   "outputs": [],
   "source": [
    "def error(pred,y):\n",
    "    rmse=(np.nanmean((pred-y)**2))**0.5\n",
    "    mae=np.nanmean(abs(pred-y))\n",
    "    return(rmse,mae)"
   ]
  },
  {
   "cell_type": "code",
   "execution_count": 6,
   "metadata": {},
   "outputs": [],
   "source": [
    "def cross(data,func):\n",
    "    np.random.seed(2898144)\n",
    "    ran=list(np.random.choice(range(len(ratings)),len(ratings),replace=False))\n",
    "    test_error=np.zeros((5,2))\n",
    "    train_error=np.zeros((5,2))\n",
    "    for i in range(5):\n",
    "        test=data.iloc[ran[i::5]]\n",
    "        train=data.drop(ran[i::5])\n",
    "        train_pred,test_pred,train_label,test_label=func(train,test)     \n",
    "        test_error[i,:]=error(test_pred,test_label)\n",
    "        train_error[i,:]=error(train_pred,train_label)\n",
    "    return(np.mean(train_error,0),np.mean(test_error,0))"
   ]
  },
  {
   "cell_type": "code",
   "execution_count": null,
   "metadata": {},
   "outputs": [],
   "source": [
    "cross(ratings,global_pred)"
   ]
  },
  {
   "cell_type": "code",
   "execution_count": null,
   "metadata": {},
   "outputs": [],
   "source": [
    "cross(ratings,user_rating_pred)"
   ]
  },
  {
   "cell_type": "code",
   "execution_count": null,
   "metadata": {},
   "outputs": [],
   "source": [
    "cross(ratings,movie_rating_pred)"
   ]
  },
  {
   "cell_type": "code",
   "execution_count": null,
   "metadata": {},
   "outputs": [],
   "source": [
    "cross(ratings,item_user_pred)"
   ]
  },
  {
   "cell_type": "code",
   "execution_count": null,
   "metadata": {},
   "outputs": [],
   "source": [
    "cross(ratings,item_user_pred_2)"
   ]
  },
  {
   "cell_type": "code",
   "execution_count": 13,
   "metadata": {
    "scrolled": true
   },
   "outputs": [
    {
     "data": {
      "text/plain": [
       "1.1808173656463623"
      ]
     },
     "execution_count": 13,
     "metadata": {},
     "output_type": "execute_result"
    }
   ],
   "source": [
    "t0=time.time()\n",
    "for i in range(10):\n",
    "    cross(ratings,global_pred)\n",
    "t1=time.time()\n",
    "t1-t0"
   ]
  },
  {
   "cell_type": "code",
   "execution_count": 14,
   "metadata": {},
   "outputs": [
    {
     "data": {
      "text/plain": [
       "2.054514169692993"
      ]
     },
     "execution_count": 14,
     "metadata": {},
     "output_type": "execute_result"
    }
   ],
   "source": [
    "t0=time.time()\n",
    "for i in range(10):\n",
    "    cross(ratings,user_rating_pred)\n",
    "t1=time.time()\n",
    "t1-t0"
   ]
  },
  {
   "cell_type": "code",
   "execution_count": 15,
   "metadata": {},
   "outputs": [
    {
     "data": {
      "text/plain": [
       "2.23736572265625"
      ]
     },
     "execution_count": 15,
     "metadata": {},
     "output_type": "execute_result"
    }
   ],
   "source": [
    "t0=time.time()\n",
    "for i in range(10):\n",
    "    cross(ratings,movie_rating_pred)\n",
    "t1=time.time()\n",
    "t1-t0"
   ]
  },
  {
   "cell_type": "code",
   "execution_count": 23,
   "metadata": {},
   "outputs": [
    {
     "data": {
      "text/plain": [
       "63.780582427978516"
      ]
     },
     "execution_count": 23,
     "metadata": {},
     "output_type": "execute_result"
    }
   ],
   "source": [
    "t0=time.time()\n",
    "for i in range(10):\n",
    "    cross(ratings,item_user_pred)\n",
    "t1=time.time()\n",
    "t1-t0"
   ]
  },
  {
   "cell_type": "code",
   "execution_count": 24,
   "metadata": {},
   "outputs": [
    {
     "data": {
      "text/plain": [
       "62.23153018951416"
      ]
     },
     "execution_count": 24,
     "metadata": {},
     "output_type": "execute_result"
    }
   ],
   "source": [
    "t0=time.time()\n",
    "for i in range(10):\n",
    "    cross(ratings,item_user_pred_2)\n",
    "t1=time.time()\n",
    "t1-t0"
   ]
  },
  {
   "cell_type": "code",
   "execution_count": 567,
   "metadata": {},
   "outputs": [
    {
     "name": "stderr",
     "output_type": "stream",
     "text": [
      "<ipython-input-567-7c9f3c924fb1>:10: RuntimeWarning: invalid value encountered in true_divide\n",
      "  U[:,s]=above/below\n"
     ]
    },
    {
     "data": {
      "text/plain": [
       "array([[-0.98445122, -0.11659496, -0.57109488,  0.18988856],\n",
       "       [-0.68562196, -0.27802573, -0.3745213 , -0.77575625],\n",
       "       [-0.49822704, -0.39654629,  0.14288945, -0.8460524 ],\n",
       "       ...,\n",
       "       [-1.7242489 , -0.07956161, -0.45670085,  0.8692773 ],\n",
       "       [ 2.16770524,  0.80070366, -3.67824517,  0.84327669],\n",
       "       [-0.51362769,  0.35982786, -0.72508214, -0.13439939]])"
      ]
     },
     "execution_count": 567,
     "metadata": {},
     "output_type": "execute_result"
    }
   ],
   "source": [
    "# slower method, not used\n",
    "for s in range(4):\n",
    "        vv=np.array(V[s,:])\n",
    "        mm=np.zeros(np.shape(M))\n",
    "        mm[:,:]=vv\n",
    "        mm[np.isnan(M)]=np.nan\n",
    "        below=np.nansum(np.square(mm),1)\n",
    "        my_sum=np.matmul(U,V)-np.matmul(U[:,s].reshape(-1,1),V[s,:].reshape(1,-1))\n",
    "        above=np.nansum(V[s,:]*(M-my_sum),1)\n",
    "        U[:,s]=above/below\n",
    "U"
   ]
  },
  {
   "cell_type": "code",
   "execution_count": 569,
   "metadata": {},
   "outputs": [
    {
     "data": {
      "text/plain": [
       "array([[-0.43834476, -0.02977602, -0.23300422,  0.05446093],\n",
       "       [-0.32579279, -0.10780408, -0.15786782, -0.38777834],\n",
       "       [-0.23264629, -0.18474583,  0.06283148, -0.42425281],\n",
       "       ...,\n",
       "       [-0.64293321,  0.00354489, -0.21201845,  0.27032768],\n",
       "       [ 0.42535153,  0.13683307, -1.04319859,  0.34388617],\n",
       "       [-0.24953458,  0.17466448, -0.35163485, -0.10813375]])"
      ]
     },
     "execution_count": 569,
     "metadata": {},
     "output_type": "execute_result"
    }
   ],
   "source": [
    "\n",
    "for r in R:\n",
    "        for s in D: \n",
    "            mm=np.array(M[r,:])\n",
    "            if np.nansum(mm)==0:\n",
    "                continue\n",
    "            vv=np.array(V[s,:])\n",
    "            #vv=np.nan((s,0))\n",
    "            vv[np.isnan(mm)]=np.nan\n",
    "            below=np.nansum(np.square(vv))\n",
    "            my_sum=np.matmul(U[r,:],V[:])-(U[r,s]*V[s,:])\n",
    "            #my_sum=np.matmul(U,V)-np.matmul(U[:,s].reshape(-1,1),V[s,:].reshape(1,-1))\n",
    "            above=np.nansum(V[s,:]*(mm-my_sum))\n",
    "            #above=np.nansum(V[s,:]*(mm-my_sum),1)\n",
    "            U[r,s]=0.5*(above)/below\n",
    "U"
   ]
  },
  {
   "cell_type": "code",
   "execution_count": 28,
   "metadata": {},
   "outputs": [],
   "source": [
    "def Matrix_U(R,D,U,V,M):\n",
    "    for r in R:\n",
    "        \n",
    "        for s in D:\n",
    "            mm=np.array(M[r,:])\n",
    "            if np.nansum(mm)==0:\n",
    "                continue \n",
    "            vv=np.array(V[s,:])\n",
    "            vv[np.isnan(mm)]=np.nan\n",
    "            below=np.nansum(np.square(vv))\n",
    "            my_sum=np.matmul(U[r,:],V[:])-(U[r,s]*V[s,:])\n",
    "            above=np.nansum(V[s,:]*(mm-my_sum))\n",
    "            U[r,s]=0.7*U[r,s]+0.3*(above)/below\n",
    "\n",
    "    return(U)\n",
    "\n",
    "def Matrix_V(S,D,U,V,M):\n",
    "    for s in S:\n",
    "\n",
    "        for r in D:\n",
    "            mm=np.array(M[:,s])\n",
    "            if np.nansum(mm)==0:\n",
    "                continue\n",
    "            uu=np.array(U[:,r]) \n",
    "            uu[np.isnan(mm)]=np.nan\n",
    "            below=np.nansum(np.square(uu))\n",
    "            my_sum=np.matmul(U[:],V[:,s])-(V[r,s]*U[:,r])\n",
    "            above=np.nansum(U[:,r]*(mm-my_sum))\n",
    "            V[r,s]=0.7*V[r,s]+0.3*(above)/below\n",
    "\n",
    "    return(V)\n",
    "\n"
   ]
  },
  {
   "cell_type": "code",
   "execution_count": 29,
   "metadata": {},
   "outputs": [
    {
     "name": "stdout",
     "output_type": "stream",
     "text": [
      "[[0.91720399 0.71886768]\n",
      " [0.90946419 0.71107413]\n",
      " [0.91459159 0.71400066]\n",
      " [0.91408065 0.71509056]\n",
      " [0.91594279 0.71610086]] [[0.86940035 0.68332024]\n",
      " [0.86419534 0.67812408]\n",
      " [0.86681447 0.68023626]\n",
      " [0.86598805 0.67936392]\n",
      " [0.86857233 0.68178082]]\n"
     ]
    },
    {
     "data": {
      "text/plain": [
       "-2113.431747198105"
      ]
     },
     "execution_count": 29,
     "metadata": {},
     "output_type": "execute_result"
    }
   ],
   "source": [
    "t0=time.time()\n",
    "test_error=np.zeros((50,5,2))\n",
    "train_error=np.zeros((50,5,2))\n",
    "np.random.seed(2898144)\n",
    "ran=list(np.random.choice(range(len(ratings)),len(ratings),replace=False))\n",
    "for i in range(5):\n",
    "    test=ratings.iloc[ran[i::5]]\n",
    "    train=ratings.drop(ran[i::5])\n",
    "    train=pd.merge(ratings.drop(columns=['Rating']),train,how='left',sort=False)\n",
    "    mean_user=user_rating(train)\n",
    "    normal=pd.merge(train,mean_user,on=('UserID'),suffixes=('_a','_b'),how='left',sort=False)\n",
    "    normal['Rating']=normal['Rating_a']-normal['Rating_b']\n",
    "    mean_movie=item_rating(normal)\n",
    "    normal=pd.merge(normal,mean_movie,on=('MovieID'),how='left',sort=False)\n",
    "    normal['Rating']=normal['Rating_x']-normal['Rating_y'] \n",
    "    M=pd.merge(ratings.drop(columns=['Rating']),train,'left')\n",
    "    M=normal[['UserID','MovieID','Rating']]\n",
    "    M=M.pivot(index='MovieID', columns='UserID', values='Rating')\n",
    "    M=np.array(M)\n",
    "    a=np.nanmean(M)\n",
    "    d=3\n",
    "    n=np.shape(M)[0]\n",
    "    m=np.shape(M)[1]\n",
    "    var=np.nanvar(M)\n",
    "    U=np.random.normal(0,np.sqrt(var),size=(n,d))\n",
    "    V=np.random.normal(0,np.sqrt(var),size=(d,m))\n",
    "    y=pd.merge(ratings.drop(columns=['Rating']),test,'left',sort=False)\n",
    "    y=y.pivot(index='MovieID', columns='UserID', values='Rating')\n",
    "    y=np.array(y)\n",
    "    for ii in range(50):       \n",
    "        S=list(np.random.choice(range(m),m,False))\n",
    "        D=list(np.random.choice(range(d),d,False))\n",
    "        R=list(np.random.choice(range(n),n,False))\n",
    "        U=Matrix_U(R,D,U,V,M)\n",
    "        V=Matrix_V(S,D,U,V,M)\n",
    "        pred=np.dot(U,V)\n",
    "        unique_movie=pd.DataFrame(np.unique(ratings['MovieID']),columns=['MovieID'])\n",
    "        mean_movie=pd.merge(unique_movie,mean_movie,how='left',sort=False)\n",
    "        mean_movie.fillna(np.nanmean(mean_movie),inplace=True)\n",
    "        unique_user=pd.DataFrame(np.unique(ratings['UserID']),columns=['UserID'])\n",
    "        mean_user=pd.merge(unique_user,mean_user,how='left',sort=False)\n",
    "        mean_user.fillna(np.nanmean(mean_user),inplace=True)\n",
    "        pred=pred+np.array(mean_movie['Rating']).reshape(-1,1)\n",
    "        pred=pred+np.array(mean_user['Rating'])   \n",
    "        pred[pred>5]=5\n",
    "        pred[pred<1]=1\n",
    "        test_error[ii,i,:]=error(pred,y)\n",
    "        T=train.pivot(index='MovieID', columns='UserID', values='Rating')\n",
    "        train_error[ii,i,:]=error(pred,T)\n",
    "print(np.mean(test_error,0),np.mean(train_error,0))\n",
    "t1=time.time()\n",
    "t0-t1"
   ]
  },
  {
   "cell_type": "code",
   "execution_count": 83,
   "metadata": {},
   "outputs": [
    {
     "name": "stdout",
     "output_type": "stream",
     "text": [
      "[0.89066155 0.69594591] [0.8436505  0.66195215]\n"
     ]
    },
    {
     "data": {
      "text/plain": [
       "-1441.8264677524567"
      ]
     },
     "execution_count": 83,
     "metadata": {},
     "output_type": "execute_result"
    }
   ],
   "source": [
    "t0=time.time()\n",
    "test_error=np.zeros((5,2))\n",
    "train_error=np.zeros((5,2))\n",
    "np.random.seed(2898144)\n",
    "ran=list(np.random.choice(range(len(ratings)),len(ratings),replace=False))\n",
    "for i in range(5):\n",
    "    test=ratings.iloc[ran[i::5]]\n",
    "    train=ratings.drop(ran[i::5])\n",
    "    train=pd.merge(ratings.drop(columns=['Rating']),train,how='left',sort=False)\n",
    "    mean_user=user_rating(train)\n",
    "    normal=pd.merge(train,mean_user,on=('UserID'),suffixes=('_a','_b'),how='left',sort=False)\n",
    "    normal['Rating']=normal['Rating_a']-normal['Rating_b']\n",
    "    mean_movie=item_rating(normal)\n",
    "    normal=pd.merge(normal,mean_movie,on=('MovieID'),how='left',sort=False)\n",
    "    normal['Rating']=normal['Rating_x']-normal['Rating_y'] \n",
    "    M=pd.merge(ratings.drop(columns=['Rating']),train,'left')\n",
    "    M=normal[['UserID','MovieID','Rating']]\n",
    "    M=M.pivot(index='MovieID', columns='UserID', values='Rating')\n",
    "    M=np.array(M)\n",
    "    a=np.nanmean(M)\n",
    "    d=3\n",
    "    n=np.shape(M)[0]\n",
    "    m=np.shape(M)[1]\n",
    "    var=np.nanvar(M)\n",
    "    U=np.random.normal(0,np.sqrt(var),size=(n,d))\n",
    "    V=np.random.normal(0,np.sqrt(var),size=(d,m))\n",
    "    y=pd.merge(ratings.drop(columns=['Rating']),test,'left',sort=False)\n",
    "    y=y.pivot(index='MovieID', columns='UserID', values='Rating')\n",
    "    y=np.array(y)\n",
    "    for ii in range(50):       \n",
    "        S=list(np.random.choice(range(m),m,False))\n",
    "        D=list(np.random.choice(range(d),d,False))\n",
    "        R=list(np.random.choice(range(n),n,False))\n",
    "        U=Matrix_U(R,D,U,V,M)\n",
    "        V=Matrix_V(S,D,U,V,M)\n",
    "    pred=np.dot(U,V)\n",
    "    unique_movie=pd.DataFrame(np.unique(ratings['MovieID']),columns=['MovieID'])\n",
    "    mean_movie=pd.merge(unique_movie,mean_movie,how='left',sort=False)\n",
    "    mean_movie.fillna(np.nanmean(mean_movie),inplace=True)\n",
    "    unique_user=pd.DataFrame(np.unique(ratings['UserID']),columns=['UserID'])\n",
    "    mean_user=pd.merge(unique_user,mean_user,how='left',sort=False)\n",
    "    mean_user.fillna(np.nanmean(mean_user),inplace=True)\n",
    "    pred=pred+np.array(mean_movie['Rating']).reshape(-1,1)\n",
    "    pred=pred+np.array(mean_user['Rating'])   \n",
    "    pred[pred>5]=5\n",
    "    pred[pred<1]=1\n",
    "    test_error[i,:]=error(pred,y)\n",
    "    T=train.pivot(index='MovieID', columns='UserID', values='Rating')\n",
    "    train_error[i,:]=error(pred,T)\n",
    "print(np.mean(test_error,0),np.mean(train_error,0))\n",
    "t1=time.time()\n",
    "t0-t1"
   ]
  },
  {
   "cell_type": "code",
   "execution_count": 33,
   "metadata": {},
   "outputs": [],
   "source": [
    "test_results=np.mean(test_error,1)\n",
    "train_results=np.mean(train_error,1)"
   ]
  },
  {
   "cell_type": "code",
   "execution_count": 81,
   "metadata": {},
   "outputs": [
    {
     "data": {
      "image/png": "[encoded data removed]",
      "text/plain": [
       "<Figure size 864x432 with 2 Axes>"
      ]
     },
     "metadata": {
      "needs_background": "light"
     },
     "output_type": "display_data"
    }
   ],
   "source": [
    "X=list(range(len(train_results)))\n",
    "fig = plt.figure(figsize=(12, 6))\n",
    "train_ax1 = fig.add_subplot(121)\n",
    "train_ax1.plot(X, train_results[:,0], color='blue', label='RMSE')\n",
    "train_ax1.plot(X, train_results[:,1], color='orange', label='MAE')\n",
    "test_ax2 = fig.add_subplot(122)\n",
    "test_ax2.plot(X, test_results[:,0], color='blue', label='RMSE')\n",
    "test_ax2.plot(X, test_results[:,1], color='orange', label='MAE')\n",
    "train_ax1.set_xlabel('Epoch')\n",
    "train_ax1.set_ylabel('Error')\n",
    "test_ax2.set_ylabel('Error')\n",
    "test_ax2.set_xlabel('Epoch')\n",
    "train_ax1.set_title('Performance on training set')\n",
    "test_ax2.set_title('Performance on test set') \n",
    "train_ax1.legend()\n",
    "test_ax2.legend() \n",
    "plt.show()"
   ]
  },
  {
   "cell_type": "code",
   "execution_count": null,
   "metadata": {},
   "outputs": [],
   "source": []
  }
 ],
 "metadata": {
  "kernelspec": {
   "display_name": "Python 3",
   "language": "python",
   "name": "python3"
  },
  "language_info": {
   "codemirror_mode": {
    "name": "ipython",
    "version": 3
   },
   "file_extension": ".py",
   "mimetype": "text/x-python",
   "name": "python",
   "nbconvert_exporter": "python",
   "pygments_lexer": "ipython3",
   "version": "3.8.3"
  }
 },
 "nbformat": 4,
 "nbformat_minor": 4
}
