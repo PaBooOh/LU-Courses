{
 "cells": [
  {
   "cell_type": "code",
   "execution_count": 3,
   "metadata": {},
   "outputs": [
    {
     "name": "stdout",
     "output_type": "stream",
     "text": [
      "           3            2\n",
      "7.101e-19 x - 1.31e-12 x + 7.454e-07 x + 0.864\n"
     ]
    }
   ],
   "source": [
    "# (1) random integers\n",
    "import numpy as np\n",
    "import matplotlib.pyplot as plt\n",
    "\n",
    "N = [] # variable: range of values\n",
    "compound_coord = [] # see unique_values/n_size as a variable\n",
    "n_size = 10000 # values taken\n",
    "np.random.seed(123)\n",
    "\n",
    "# produce data\n",
    "for p in range(2,102,2):\n",
    "    N.append(p*n_size)\n",
    "    r = np.random.randint(0, p*n_size, n_size)\n",
    "    compound_coord.append(len(set(r))/n_size)\n",
    "\n",
    "# fit\n",
    "poly_weights = np.polyfit(N, compound_coord, deg=3)\n",
    "polynomial = np.poly1d(poly_weights)\n",
    "print(polynomial) # f(N) = unique_value/n_size"
   ]
  },
  {
   "cell_type": "code",
   "execution_count": 5,
   "metadata": {},
   "outputs": [
    {
     "name": "stdout",
     "output_type": "stream",
     "text": [
      "894552257\n"
     ]
    }
   ],
   "source": [
    "# (2) bonus (hash function for string)\n",
    "import ctypes\n",
    "\n",
    "# based on DJB\n",
    "def hashFunction_DJB(str):\n",
    "    hash = 5381\n",
    "    # str_len = len(str)\n",
    "    for char in str:\n",
    "        hash = (((hash << 5) + hash) + ord(char))\n",
    "    print(ctypes.c_uint32(hash).value) # < 2**32 (unsigned 32bit)\n",
    "\n",
    "hashFunction_DJB('hello world') # example\n",
    "# while(True):\n",
    "#     hashFunction_DJB(input()) \n",
    "    "
   ]
  }
 ],
 "metadata": {
  "interpreter": {
   "hash": "63ca0c8d3a239235585b09f22bd374cae13a775a92515e346cda6a4d44a7b14d"
  },
  "kernelspec": {
   "display_name": "Python 3.8.11 64-bit ('dl_env': conda)",
   "name": "python3"
  },
  "language_info": {
   "codemirror_mode": {
    "name": "ipython",
    "version": 3
   },
   "file_extension": ".py",
   "mimetype": "text/x-python",
   "name": "python",
   "nbconvert_exporter": "python",
   "pygments_lexer": "ipython3",
   "version": "3.8.12"
  },
  "orig_nbformat": 4
 },
 "nbformat": 4,
 "nbformat_minor": 2
}
